{
 "cells": [
  {
   "cell_type": "code",
   "execution_count": null,
   "metadata": {
    "collapsed": false
   },
   "outputs": [],
   "source": [
    "import cv2\n",
    "import numpy as np"
   ]
  },
  {
   "cell_type": "code",
   "execution_count": null,
   "metadata": {
    "collapsed": false
   },
   "outputs": [],
   "source": [
    "# init video capture object\n",
    "cap = cv2.VideoCapture(\"../../data/raw/s01.mp4\")"
   ]
  },
  {
   "cell_type": "code",
   "execution_count": null,
   "metadata": {
    "collapsed": true
   },
   "outputs": [],
   "source": [
    "# kernel for sharpen operation\n",
    "kernel = np.zeros( (8,8), np.float32); kernel[4,4] = 2.0 \n",
    "#Create a box filter:\n",
    "boxFilter = np.ones( (8,8), np.float32) / 81.0\n",
    "#Subtract the two:\n",
    "kernel = kernel - boxFilter"
   ]
  },
  {
   "cell_type": "code",
   "execution_count": null,
   "metadata": {
    "collapsed": false,
    "scrolled": true
   },
   "outputs": [],
   "source": [
    "dataset = []\n",
    "sample = []\n",
    "i=0\n",
    "while(cap.isOpened()):\n",
    "    \n",
    "    ret, frame = cap.read()\n",
    "    \n",
    "    if frame is None:\n",
    "        print \"frame is none; breaking\"\n",
    "        break\n",
    "    \n",
    "    gray = cv2.cvtColor(frame, cv2.COLOR_BGR2GRAY)\n",
    "    resized = cv2.resize(gray,(480,270), interpolation = cv2.INTER_CUBIC)\n",
    "    \n",
    "    if(i != 1 and i != 4):\n",
    "        sample.append(np.asarray(resized).ravel())\n",
    "    if(i == 5 ):\n",
    "        sample.append(cv2.blur(sample[-1],(5,5)))\n",
    "        sample.append(cv2.filter2D(sample[-2], -1, kernel))\n",
    "        dataset.append(sample)\n",
    "    \n",
    "    i = i+1\n",
    "    \n",
    "    if i > 5:\n",
    "        sample = []\n",
    "        i = 0\n",
    "    "
   ]
  },
  {
   "cell_type": "code",
   "execution_count": null,
   "metadata": {
    "collapsed": false
   },
   "outputs": [],
   "source": [
    "import pickle\n",
    "pickle.dump( dataset, open( \"../../data/s01m.pkl\", \"wb\" ) )  "
   ]
  },
  {
   "cell_type": "code",
   "execution_count": null,
   "metadata": {
    "collapsed": false
   },
   "outputs": [],
   "source": [
    "loaded_dataset = pickle.load( open( \"../../data/s01m.pkl\", \"rb\" ) )"
   ]
  },
  {
   "cell_type": "code",
   "execution_count": null,
   "metadata": {
    "collapsed": false
   },
   "outputs": [],
   "source": [
    "for sampl in loaded_dataset:\n",
    "    cv2.imshow('loaded',sampl[-2].reshape(270,480))\n",
    "    cv2.waitKey(100)"
   ]
  },
  {
   "cell_type": "code",
   "execution_count": null,
   "metadata": {
    "collapsed": false
   },
   "outputs": [],
   "source": []
  },
  {
   "cell_type": "code",
   "execution_count": null,
   "metadata": {
    "collapsed": false
   },
   "outputs": [],
   "source": []
  },
  {
   "cell_type": "code",
   "execution_count": null,
   "metadata": {
    "collapsed": false
   },
   "outputs": [],
   "source": [
    "dataset[0][0].shape"
   ]
  }
 ],
 "metadata": {
  "kernelspec": {
   "display_name": "Python 2",
   "language": "python",
   "name": "python2"
  },
  "language_info": {
   "codemirror_mode": {
    "name": "ipython",
    "version": 2
   },
   "file_extension": ".py",
   "mimetype": "text/x-python",
   "name": "python",
   "nbconvert_exporter": "python",
   "pygments_lexer": "ipython2",
   "version": "2.7.6"
  }
 },
 "nbformat": 4,
 "nbformat_minor": 0
}
