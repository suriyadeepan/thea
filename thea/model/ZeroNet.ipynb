{
 "cells": [
  {
   "cell_type": "code",
   "execution_count": null,
   "metadata": {
    "collapsed": false
   },
   "outputs": [],
   "source": [
    "# Network for Experiment #00\n",
    "import numpy as np\n",
    "from keras.datasets import mnist\n",
    "from keras.models import Sequential\n",
    "from keras.layers.core import Dense, Dropout, Activation, Flatten\n",
    "from keras.layers.convolutional import Convolution2D, MaxPooling2D\n",
    "from keras.utils import np_utils\n"
   ]
  },
  {
   "cell_type": "code",
   "execution_count": null,
   "metadata": {
    "collapsed": false
   },
   "outputs": [],
   "source": [
    "# input image dimensions\n",
    "img_rows, img_cols = 270, 480\n",
    "# layer 01\n",
    "layer1_filters = 32\n",
    "recep_field_1 = 3\n",
    "# layer 01.5 : pooling\n",
    "pooling_size_1 = 2\n",
    "# layer 02\n",
    "layer2_filters = 24\n",
    "recep_field_2 = 4\n",
    "# layer 02.5 : pooling2\n",
    "pooling_size_2 = 2\n",
    "# layer 03\n",
    "layer3_filters = 100\n",
    "recep_field_3 = 1\n",
    "# FC layer \n",
    "fc_layer_size = 100\n",
    "# squared error regression"
   ]
  },
  {
   "cell_type": "code",
   "execution_count": null,
   "metadata": {
    "collapsed": false
   },
   "outputs": [],
   "source": [
    "# Layer 01\n",
    "model = Sequential()\n",
    "model.add(Convolution2D(layer1_filters,recep_field_1,recep_field_1,border_mode='valid',input_shape=(6, img_rows, img_cols)))\n",
    "model.add(Activation('relu'))\n",
    "# max pooling\n",
    "model.add(MaxPooling2D(pool_size=(pooling_size_1,pooling_size_1)))"
   ]
  },
  {
   "cell_type": "code",
   "execution_count": null,
   "metadata": {
    "collapsed": false
   },
   "outputs": [],
   "source": [
    "# Layer 02\n",
    "model.add(Convolution2D(layer2_filters,recep_field_2,recep_field_2))\n",
    "model.add(Activation('relu'))\n",
    "# max pooling\n",
    "model.add(MaxPooling2D(pool_size=(pooling_size_2,pooling_size_2)))"
   ]
  },
  {
   "cell_type": "code",
   "execution_count": null,
   "metadata": {
    "collapsed": false
   },
   "outputs": [],
   "source": [
    "# Layer 03\n",
    "model.add(Convolution2D(layer3_filters,recep_field_3,recep_field_3))\n",
    "model.add(Activation('relu'))\n",
    "model.add(Flatten())\n",
    "# Fully Connected Layer\n",
    "model.add(Dense(100))"
   ]
  },
  {
   "cell_type": "code",
   "execution_count": null,
   "metadata": {
    "collapsed": false
   },
   "outputs": [],
   "source": [
    "# Output layer\n",
    "model.add(Dense(2, activation='tanh'))"
   ]
  },
  {
   "cell_type": "code",
   "execution_count": null,
   "metadata": {
    "collapsed": false
   },
   "outputs": [],
   "source": [
    "model.compile(loss='mean_squared_error', optimizer='sgd')"
   ]
  },
  {
   "cell_type": "code",
   "execution_count": null,
   "metadata": {
    "collapsed": false
   },
   "outputs": [],
   "source": [
    "from keras.utils.visualize_util import plot"
   ]
  },
  {
   "cell_type": "code",
   "execution_count": null,
   "metadata": {
    "collapsed": false
   },
   "outputs": [],
   "source": [
    "plot(model, to_file='zeronet.png')"
   ]
  },
  {
   "cell_type": "code",
   "execution_count": null,
   "metadata": {
    "collapsed": true
   },
   "outputs": [],
   "source": [
    "import pickle"
   ]
  },
  {
   "cell_type": "code",
   "execution_count": null,
   "metadata": {
    "collapsed": false
   },
   "outputs": [],
   "source": [
    "# create a 480x270x6 sample randomly\n",
    "dataset = pickle.load( open( \"../../data/s01m.pkl\", \"rb\" ) )\n",
    "x = np.asarray(dataset).reshape(25,6,270,480)\n",
    "y = np.arange(50).reshape(25,2)"
   ]
  },
  {
   "cell_type": "code",
   "execution_count": null,
   "metadata": {
    "collapsed": true
   },
   "outputs": [],
   "source": [
    "y = np.arange(50).reshape(25,2)"
   ]
  },
  {
   "cell_type": "code",
   "execution_count": null,
   "metadata": {
    "collapsed": false
   },
   "outputs": [],
   "source": [
    "model.fit(x, y, batch_size=1, nb_epoch=20,\n",
    "          show_accuracy=True, verbose=1)"
   ]
  }
 ],
 "metadata": {
  "kernelspec": {
   "display_name": "Python 2",
   "language": "python",
   "name": "python2"
  },
  "language_info": {
   "codemirror_mode": {
    "name": "ipython",
    "version": 2
   },
   "file_extension": ".py",
   "mimetype": "text/x-python",
   "name": "python",
   "nbconvert_exporter": "python",
   "pygments_lexer": "ipython2",
   "version": "2.7.6"
  }
 },
 "nbformat": 4,
 "nbformat_minor": 0
}
