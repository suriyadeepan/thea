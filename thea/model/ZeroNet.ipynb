{
 "cells": [
  {
   "cell_type": "code",
   "execution_count": 9,
   "metadata": {
    "collapsed": false
   },
   "outputs": [],
   "source": [
    "# Network for Experiment #00\n",
    "import numpy as np\n",
    "from keras.datasets import mnist\n",
    "from keras.models import Sequential\n",
    "from keras.layers.core import Dense, Dropout, Activation, Flatten\n",
    "from keras.layers.convolutional import Convolution2D, MaxPooling2D\n",
    "from keras.utils import np_utils\n"
   ]
  },
  {
   "cell_type": "code",
   "execution_count": 10,
   "metadata": {
    "collapsed": false
   },
   "outputs": [],
   "source": [
    "# input image dimensions\n",
    "#img_rows, img_cols = 270, 480\n",
    "img_rows, img_cols = 135, 240\n",
    "# layer 01\n",
    "layer1_filters = 32\n",
    "recep_field_1 = 3\n",
    "# layer 01.5 : pooling\n",
    "pooling_size_1 = 2\n",
    "# layer 02\n",
    "layer2_filters = 24\n",
    "recep_field_2 = 4\n",
    "# layer 02.5 : pooling2\n",
    "pooling_size_2 = 2\n",
    "# layer 03\n",
    "layer3_filters = 100\n",
    "recep_field_3 = 1\n",
    "# FC layer \n",
    "fc_layer_size = 100\n",
    "# squared error regression"
   ]
  },
  {
   "cell_type": "code",
   "execution_count": 11,
   "metadata": {
    "collapsed": false
   },
   "outputs": [],
   "source": [
    "# Layer 01\n",
    "model = Sequential()\n",
    "model.add(Convolution2D(layer1_filters,recep_field_1,recep_field_1,border_mode='valid',input_shape=(6, img_rows, img_cols)))\n",
    "model.add(Activation('relu'))\n",
    "# max pooling\n",
    "model.add(MaxPooling2D(pool_size=(pooling_size_1,pooling_size_1)))"
   ]
  },
  {
   "cell_type": "code",
   "execution_count": 12,
   "metadata": {
    "collapsed": false
   },
   "outputs": [],
   "source": [
    "# Layer 02\n",
    "model.add(Convolution2D(layer2_filters,recep_field_2,recep_field_2))\n",
    "model.add(Activation('relu'))\n",
    "# max pooling\n",
    "model.add(MaxPooling2D(pool_size=(pooling_size_2,pooling_size_2)))"
   ]
  },
  {
   "cell_type": "code",
   "execution_count": 13,
   "metadata": {
    "collapsed": false
   },
   "outputs": [],
   "source": [
    "# Layer 03\n",
    "model.add(Convolution2D(layer3_filters,recep_field_3,recep_field_3))\n",
    "model.add(Activation('relu'))\n",
    "model.add(Flatten())\n",
    "# Fully Connected Layer\n",
    "#model.add(Dense(100))"
   ]
  },
  {
   "cell_type": "code",
   "execution_count": 14,
   "metadata": {
    "collapsed": false
   },
   "outputs": [],
   "source": [
    "# Output layer\n",
    "model.add(Dense(2, activation='tanh'))"
   ]
  },
  {
   "cell_type": "code",
   "execution_count": 15,
   "metadata": {
    "collapsed": false
   },
   "outputs": [],
   "source": [
    "model.compile(loss='mean_squared_error', optimizer='sgd')"
   ]
  },
  {
   "cell_type": "code",
   "execution_count": 8,
   "metadata": {
    "collapsed": false
   },
   "outputs": [],
   "source": [
    "from keras.utils.visualize_util import plot"
   ]
  },
  {
   "cell_type": "code",
   "execution_count": null,
   "metadata": {
    "collapsed": false
   },
   "outputs": [],
   "source": [
    "plot(model, to_file='zeronet.png')"
   ]
  },
  {
   "cell_type": "code",
   "execution_count": 16,
   "metadata": {
    "collapsed": true
   },
   "outputs": [],
   "source": [
    "import pickle"
   ]
  },
  {
   "cell_type": "code",
   "execution_count": 17,
   "metadata": {
    "collapsed": false
   },
   "outputs": [],
   "source": [
    "# create a 480x270x6 sample randomly\n",
    "datasetX, datasetY = pickle.load( open( \"../../data/1minData_halfed.pkl\", \"rb\" ) )\n",
    "x = np.asarray(datasetX).reshape(250,6,135,240)\n",
    "y = np.asarray(datasetY)"
   ]
  },
  {
   "cell_type": "code",
   "execution_count": null,
   "metadata": {
    "collapsed": true
   },
   "outputs": [],
   "source": [
    "y = np.arange(50).reshape(25,2)"
   ]
  },
  {
   "cell_type": "code",
   "execution_count": 18,
   "metadata": {
    "collapsed": false
   },
   "outputs": [
    {
     "name": "stdout",
     "output_type": "stream",
     "text": [
      "Epoch 1/20\n",
      "250/250 [==============================] - 5s - loss: 3384.8612 - acc: 0.2880     \n",
      "Epoch 2/20\n",
      "250/250 [==============================] - 5s - loss: 3384.8620 - acc: 0.2800     \n",
      "Epoch 3/20\n",
      "250/250 [==============================] - 5s - loss: 3384.8620 - acc: 0.2800     \n",
      "Epoch 4/20\n",
      "250/250 [==============================] - 5s - loss: 3384.8620 - acc: 0.2800     \n",
      "Epoch 5/20\n",
      "250/250 [==============================] - 5s - loss: 3384.8620 - acc: 0.2800     \n",
      "Epoch 6/20\n",
      "250/250 [==============================] - 5s - loss: 3384.8620 - acc: 0.2800     \n",
      "Epoch 7/20\n",
      "250/250 [==============================] - 5s - loss: 3384.8620 - acc: 0.2800     \n",
      "Epoch 8/20\n",
      "250/250 [==============================] - 5s - loss: 3384.8620 - acc: 0.2800     \n",
      "Epoch 9/20\n",
      "250/250 [==============================] - 5s - loss: 3384.8620 - acc: 0.2800     \n",
      "Epoch 10/20\n",
      "250/250 [==============================] - 5s - loss: 3384.8620 - acc: 0.2800     \n",
      "Epoch 11/20\n",
      "250/250 [==============================] - 5s - loss: 3384.8620 - acc: 0.2800     \n",
      "Epoch 12/20\n",
      "250/250 [==============================] - 5s - loss: 3384.8620 - acc: 0.2800     \n",
      "Epoch 13/20\n",
      "250/250 [==============================] - 5s - loss: 3384.8620 - acc: 0.2800     \n",
      "Epoch 14/20\n",
      "250/250 [==============================] - 5s - loss: 3384.8620 - acc: 0.2800     \n",
      "Epoch 15/20\n",
      "250/250 [==============================] - 5s - loss: 3384.8620 - acc: 0.2800     \n",
      "Epoch 16/20\n",
      "250/250 [==============================] - 5s - loss: 3384.8620 - acc: 0.2800     \n",
      "Epoch 17/20\n",
      "250/250 [==============================] - 6s - loss: 3384.8620 - acc: 0.2800     \n",
      "Epoch 18/20\n",
      "250/250 [==============================] - 6s - loss: 3384.8620 - acc: 0.2800     \n",
      "Epoch 19/20\n",
      "250/250 [==============================] - 5s - loss: 3384.8620 - acc: 0.2800     \n",
      "Epoch 20/20\n",
      "250/250 [==============================] - 6s - loss: 3384.8620 - acc: 0.2800     \n"
     ]
    },
    {
     "data": {
      "text/plain": [
       "<keras.callbacks.History at 0x7fcce7983e50>"
      ]
     },
     "execution_count": 18,
     "metadata": {},
     "output_type": "execute_result"
    }
   ],
   "source": [
    "model.fit(x, y, batch_size=1, nb_epoch=20,\n",
    "          show_accuracy=True, verbose=1)"
   ]
  }
 ],
 "metadata": {
  "kernelspec": {
   "display_name": "Python 2",
   "language": "python",
   "name": "python2"
  },
  "language_info": {
   "codemirror_mode": {
    "name": "ipython",
    "version": 2
   },
   "file_extension": ".py",
   "mimetype": "text/x-python",
   "name": "python",
   "nbconvert_exporter": "python",
   "pygments_lexer": "ipython2",
   "version": "2.7.6"
  }
 },
 "nbformat": 4,
 "nbformat_minor": 0
}
