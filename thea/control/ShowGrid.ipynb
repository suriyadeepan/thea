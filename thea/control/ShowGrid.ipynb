{
 "cells": [
  {
   "cell_type": "code",
   "execution_count": null,
   "metadata": {
    "collapsed": true
   },
   "outputs": [],
   "source": [
    "import cv2\n",
    "import numpy as np\n",
    "import sys"
   ]
  },
  {
   "cell_type": "code",
   "execution_count": null,
   "metadata": {
    "collapsed": true
   },
   "outputs": [],
   "source": [
    "# init video capture object\n",
    "cap = cv2.VideoCapture(\"http://192.168.0.3:8080/video?x.mjpeg\")"
   ]
  },
  {
   "cell_type": "code",
   "execution_count": null,
   "metadata": {
    "collapsed": false
   },
   "outputs": [],
   "source": [
    "while True:\n",
    "    ret, frame = cap.read()\n",
    "    if frame is None:\n",
    "        print 'frame is None'\n",
    "        break;\n",
    "    #im = cv2.resize(frame,(480,270), interpolation = cv2.INTER_CUBIC)\n",
    "    im = frame\n",
    "    #for i in xrange(0,4):\n",
    "    #    resized = cv2.line(resized,(i*120,0),(i*120,270),(255,0,0),5)\n",
    "    for i in xrange(0,5):\n",
    "        cv2.line(im,(i*im.shape[1]/5,0),(i*im.shape[1]/5,im.shape[0]),(0,255,0),3)\n",
    "        cv2.line(im,(0,i*im.shape[0]/5),(im.shape[1],i*im.shape[0]/5),(0,255,0),3)\n",
    "        \n",
    "\n",
    "    cv2.imshow('frame',im)\n",
    "    cv2.waitKey(10)"
   ]
  }
 ],
 "metadata": {
  "kernelspec": {
   "display_name": "Python 2",
   "language": "python",
   "name": "python2"
  },
  "language_info": {
   "codemirror_mode": {
    "name": "ipython",
    "version": 2
   },
   "file_extension": ".py",
   "mimetype": "text/x-python",
   "name": "python",
   "nbconvert_exporter": "python",
   "pygments_lexer": "ipython2",
   "version": "2.7.6"
  }
 },
 "nbformat": 4,
 "nbformat_minor": 0
}
