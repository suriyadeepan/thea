{
 "cells": [
  {
   "cell_type": "code",
   "execution_count": null,
   "metadata": {
    "collapsed": true
   },
   "outputs": [],
   "source": [
    "import socket\n",
    "import sys"
   ]
  },
  {
   "cell_type": "code",
   "execution_count": null,
   "metadata": {
    "collapsed": false
   },
   "outputs": [],
   "source": [
    "IP = '10.0.0.5'\n",
    "PORT = 10001"
   ]
  },
  {
   "cell_type": "code",
   "execution_count": null,
   "metadata": {
    "collapsed": false
   },
   "outputs": [],
   "source": [
    "# Create a TCP/IP socket\n",
    "sock = socket.socket(socket.AF_INET, socket.SOCK_STREAM)\n",
    "\n",
    "# Connect the socket to the port where the server is listening\n",
    "server_address = (IP, PORT)\n",
    "print >>sys.stderr, 'connecting to %s port %s' % server_address\n",
    "sock.connect(server_address)"
   ]
  },
  {
   "cell_type": "code",
   "execution_count": null,
   "metadata": {
    "collapsed": false
   },
   "outputs": [],
   "source": [
    "# motor states\n",
    "class State(object):\n",
    "    def __init__(self,_name,_offset=0):\n",
    "        self.name = _name\n",
    "        self.fav_fc = 0\n",
    "        self.ufav_fc = 0\n",
    "        self.dcycle = zero\n",
    "        self.offset = _offset\n",
    "    def growth(self):\n",
    "        self.ufav_fc = 0\n",
    "        self.fav_fc = self.fav_fc + 1\n",
    "        self.dcycle = min(max(self.dcycle,base) + (alpha*self.fav_fc) + self.offset,infinity)\n",
    "    def decay(self):\n",
    "        self.fav_fc = 0\n",
    "        self.ufav_fc = self.ufav_fc + 1\n",
    "        self.dcycle = max(self.dcycle - (beta*self.ufav_fc) -self.offset,zero)\n",
    "    def get_value(self):\n",
    "        return self.dcycle\n",
    "    "
   ]
  },
  {
   "cell_type": "code",
   "execution_count": null,
   "metadata": {
    "collapsed": true
   },
   "outputs": [],
   "source": [
    "# params\n",
    "zero = 0\n",
    "infinity = 95\n",
    "base = 40\n",
    "alpha = 5\n",
    "beta = 2\n",
    "# global frame count\n",
    "frame_count = 0"
   ]
  },
  {
   "cell_type": "code",
   "execution_count": null,
   "metadata": {
    "collapsed": true
   },
   "outputs": [],
   "source": [
    "l = State(\"left\")\n",
    "r = State(\"right\")\n",
    "\n"
   ]
  },
  {
   "cell_type": "code",
   "execution_count": null,
   "metadata": {
    "collapsed": false
   },
   "outputs": [],
   "source": [
    "l.growth()\n",
    "l.growth()\n",
    "print l.get_value()\n",
    "l.decay()\n",
    "print l.get_value()"
   ]
  },
  {
   "cell_type": "code",
   "execution_count": null,
   "metadata": {
    "collapsed": true
   },
   "outputs": [],
   "source": [
    "import cv2\n",
    "cap = cv2.VideoCapture(\"http://10.0.0.7:8080/video?x.mjpeg\")"
   ]
  },
  {
   "cell_type": "code",
   "execution_count": null,
   "metadata": {
    "collapsed": false
   },
   "outputs": [],
   "source": [
    "try:\n",
    "    message='x'\n",
    "    while True:                \n",
    "        ret, frame = cap.read()\n",
    "        resized = cv2.resize(frame,(480,270), interpolation = cv2.INTER_CUBIC)\n",
    "        cv2.imshow('frame',resized)\n",
    "        \n",
    "        key_press = cv2.waitKey(1)\n",
    "        \n",
    "        if key_press != message and key_press != -1:\n",
    "            if 'w' == chr(key_press & 255):\n",
    "                l.growth(); r.growth()\n",
    "            elif 's' == chr(key_press & 255):\n",
    "                l.decay(); r.decay()\n",
    "            elif 'a' == chr(key_press & 255):\n",
    "                r.growth(); l.decay()\n",
    "            elif 'd' == chr(key_press & 255):\n",
    "                l.growth(); r.decay()\n",
    "            else:\n",
    "                message='q'\n",
    "            \n",
    "            # construct message of form (l,r)\n",
    "            message=\"(%s,%s)\"%(l.get_value(),r.get_value())\n",
    "            print >>sys.stderr, 'sending \"%s\"' % message\n",
    "            sock.sendall(message)\n",
    "        \n",
    "\n",
    "        # Look for the response\n",
    "        #amount_received = 0\n",
    "        #amount_expected = len(message)\n",
    "        '''\n",
    "        while amount_received < amount_expected:\n",
    "            data = sock.recv(16)\n",
    "            amount_received += len(data)\n",
    "            print >>sys.stderr, 'received \"%s\"' % data\n",
    "        '''\n",
    "finally:\n",
    "    print >>sys.stderr, 'closing socket'\n",
    "    sock.close()"
   ]
  }
 ],
 "metadata": {
  "kernelspec": {
   "display_name": "Python 2",
   "language": "python",
   "name": "python2"
  },
  "language_info": {
   "codemirror_mode": {
    "name": "ipython",
    "version": 2
   },
   "file_extension": ".py",
   "mimetype": "text/x-python",
   "name": "python",
   "nbconvert_exporter": "python",
   "pygments_lexer": "ipython2",
   "version": "2.7.6"
  }
 },
 "nbformat": 4,
 "nbformat_minor": 0
}
